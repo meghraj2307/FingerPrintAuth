{
 "cells": [
  {
   "cell_type": "code",
   "execution_count": 1,
   "id": "e137bcd9",
   "metadata": {},
   "outputs": [],
   "source": [
    "import cv2\n",
    "import glob\n",
    "import numpy as np\n",
    "import os\n",
    "from skimage.filters import gaussian\n",
    "from skimage import img_as_ubyte"
   ]
  },
  {
   "cell_type": "code",
   "execution_count": 2,
   "id": "bc1b5ddb",
   "metadata": {},
   "outputs": [],
   "source": [
    "path = 'C:/Users/Meghraj/Desktop/FingerPrint Project/Modified/Real'\n",
    "n=0\n",
    "for i in glob.glob(\"C:/Users/Meghraj/Desktop/FingerPrint Project/Original/SOCOFing/Real/*.*\"):\n",
    "    img=cv2.imread(i)\n",
    "    int_mat = np.ones(img.shape,dtype=\"uint8\") * 70\n",
    "    dark = cv2.subtract(img,int_mat)\n",
    "    cv2.imwrite(os.path.join(path , 'image'+str(n)+'.jpg'), dark)\n",
    "    n+=1"
   ]
  },
  {
   "cell_type": "code",
   "execution_count": 3,
   "id": "ac4079ab",
   "metadata": {},
   "outputs": [],
   "source": [
    "path = 'C:/Users/Meghraj/Desktop/FingerPrint Project/Modified/Altered/Altered-Easy'\n",
    "for i in glob.glob(\"C:/Users/Meghraj/Desktop/FingerPrint Project/Original/SOCOFing/Altered/Altered-Easy/*.*\"):\n",
    "    img=cv2.imread(i)\n",
    "    int_mat = np.ones(img.shape,dtype=\"uint8\") * 70\n",
    "    dark = cv2.subtract(img,int_mat)\n",
    "    cv2.imwrite(os.path.join(path , 'image'+str(n)+'.jpg'), dark)\n",
    "    n+=1"
   ]
  },
  {
   "cell_type": "code",
   "execution_count": 4,
   "id": "86862f1d",
   "metadata": {},
   "outputs": [],
   "source": [
    "path = 'C:/Users/Meghraj/Desktop/FingerPrint Project/Modified/Altered/Altered-Medium'\n",
    "for i in glob.glob(\"C:/Users/Meghraj/Desktop/FingerPrint Project/Original/SOCOFing/Altered/Altered-Medium/*.*\"):\n",
    "    img=cv2.imread(i)\n",
    "    int_mat = np.ones(img.shape,dtype=\"uint8\") * 70\n",
    "    dark = cv2.subtract(img,int_mat)\n",
    "    cv2.imwrite(os.path.join(path , 'image'+str(n)+'.jpg'), dark)\n",
    "    n+=1"
   ]
  },
  {
   "cell_type": "code",
   "execution_count": 5,
   "id": "282958a5",
   "metadata": {},
   "outputs": [],
   "source": [
    "path = 'C:/Users/Meghraj/Desktop/FingerPrint Project/Modified/Validation/Altered'\n",
    "for i in glob.glob(\"C:/Users/Meghraj/Desktop/FingerPrint Project/Original/Validation/Altered/*.*\"):\n",
    "    img=cv2.imread(i)\n",
    "    int_mat = np.ones(img.shape,dtype=\"uint8\") * 70\n",
    "    dark = cv2.subtract(img,int_mat)\n",
    "    cv2.imwrite(os.path.join(path , 'image'+str(n)+'.jpg'), dark)\n",
    "    n+=1"
   ]
  },
  {
   "cell_type": "code",
   "execution_count": 6,
   "id": "49454066",
   "metadata": {},
   "outputs": [],
   "source": [
    "path = 'C:/Users/Meghraj/Desktop/FingerPrint Project/Modified/Validation/Real'\n",
    "for i in glob.glob(\"C:/Users/Meghraj/Desktop/FingerPrint Project/Original/Validation/Real/*.*\"):\n",
    "    img=cv2.imread(i)\n",
    "    int_mat = np.ones(img.shape,dtype=\"uint8\") * 70\n",
    "    dark = cv2.subtract(img,int_mat)\n",
    "    cv2.imwrite(os.path.join(path , 'image'+str(n)+'.jpg'), dark)\n",
    "    n+=1"
   ]
  },
  {
   "cell_type": "code",
   "execution_count": 7,
   "id": "03fdb13f",
   "metadata": {},
   "outputs": [],
   "source": [
    "path = 'C:/Users/Meghraj/Desktop/FingerPrint Project/Modified/Testing_Data'\n",
    "for i in glob.glob(\"C:/Users/Meghraj/Desktop/FingerPrint Project/Original/Testing_Data/*.*\"):\n",
    "    img=cv2.imread(i)\n",
    "    int_mat = np.ones(img.shape,dtype=\"uint8\") * 70\n",
    "    dark = cv2.subtract(img,int_mat)\n",
    "    cv2.imwrite(os.path.join(path , 'image'+str(n)+'.jpg'), dark)\n",
    "    n+=1"
   ]
  },
  {
   "cell_type": "code",
   "execution_count": null,
   "id": "1c285a73",
   "metadata": {},
   "outputs": [],
   "source": []
  },
  {
   "cell_type": "code",
   "execution_count": null,
   "id": "b77912e5",
   "metadata": {},
   "outputs": [],
   "source": []
  },
  {
   "cell_type": "code",
   "execution_count": null,
   "id": "75995e4f",
   "metadata": {},
   "outputs": [],
   "source": []
  },
  {
   "cell_type": "code",
   "execution_count": null,
   "id": "985cb087",
   "metadata": {},
   "outputs": [],
   "source": []
  },
  {
   "cell_type": "code",
   "execution_count": null,
   "id": "c218e671",
   "metadata": {},
   "outputs": [],
   "source": []
  },
  {
   "cell_type": "code",
   "execution_count": null,
   "id": "48be8b5b",
   "metadata": {},
   "outputs": [],
   "source": []
  }
 ],
 "metadata": {
  "kernelspec": {
   "display_name": "Python 3 (ipykernel)",
   "language": "python",
   "name": "python3"
  },
  "language_info": {
   "codemirror_mode": {
    "name": "ipython",
    "version": 3
   },
   "file_extension": ".py",
   "mimetype": "text/x-python",
   "name": "python",
   "nbconvert_exporter": "python",
   "pygments_lexer": "ipython3",
   "version": "3.9.7"
  }
 },
 "nbformat": 4,
 "nbformat_minor": 5
}
